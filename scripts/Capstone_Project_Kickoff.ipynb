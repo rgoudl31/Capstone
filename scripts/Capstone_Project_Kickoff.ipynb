{
 "cells": [
  {
   "cell_type": "markdown",
   "metadata": {},
   "source": [
    "# Capstone Project - The Battle of the Neighborhoods\n",
    "### Rob Gould's Applied Data Science Capstone by IBM/Coursera"
   ]
  },
  {
   "cell_type": "markdown",
   "metadata": {},
   "source": [
    "## Introduction: Business Problem"
   ]
  },
  {
   "cell_type": "markdown",
   "metadata": {},
   "source": [
    "Dublin, Ohio is a small city just outside Columbus, Ohio. It is a suburb of around 50,000 people and would be more likely to compare to a Neighborhood or Borough within our target area of relocation, Toronto.\n",
    "\n",
    "The reason we chose to relocate is that the United States is going through a recent COVID spike that is much larger than other areas. COVID management is different state-to-state here, and we feel it would be best to look outside of the US for a temporary move until the current environment resolves. We chose Toronto based on our willingness to relocate to an area that has the following:\n",
    "\n",
    "<br>1) Similar lifestyle</br>\n",
    "<br>2) Outside of the United States due to the country as a whole continiously posting high COVID numbers</br>\n",
    "<br>3) Ability to speak English while we learn the local language</br>\n",
    "<br>4) Similar weather as Ohio (cold and not super hot summers)</br>\n",
    "<br>5) Proximity to Columbus to visit friends</br>\n",
    "\n",
    "In order to ease the transition, we are targeting a location within Toronto that is most similar to our current residence of Dublin, Ohio. Toronto is a common visiting spot for people within the Ohio area of the United States, and is only a 6 hour drive. This makes it convenient to visit family and friends. \n",
    "\n",
    "During this analysis, we will use our skills to pull data from the internet for Dublin and Toronto, use four square to pull neighborhood venues to compare using K-Means for our ideal cluster of locations, use four square again to find a realtor in our new area, and then use Folium to map our new neighborhoods!\n",
    "\n",
    "This analysis would be beneficial for anyone who is looking to relocate or for real estate agents looking to help facilitate relocation. I used my current example as one that might be common and to help show the value in why this analysis would be useful. In this analysis, all the user needs to do is update Home town and target relocation spot to run this analysis."
   ]
  },
  {
   "cell_type": "markdown",
   "metadata": {},
   "source": [
    "# Data"
   ]
  },
  {
   "cell_type": "markdown",
   "metadata": {},
   "source": [
    "Given our target of finding an ideal neighborhood, we will need the following set of data points:\n",
    "* Current home town lat - lon\n",
    "* Neighborhoods within Toronto\n",
    "* Current home town venue list\n",
    "* Relocation city (Toronto) venue list to find the most similar neighborhood(s)\n",
    "* Real Estate Agent in the city to help us determine our best options\n",
    "* Rating of the Real Estate Agent\n",
    "* Map detailing our relocation spot\n",
    "\n",
    "In order to perform our analysis, the following data will be pulled:\n",
    "* <b> Foursquare API </b>: We will use this to pull Venue information for hometown and our relocation city. We will also pull real estae agent information and rating from this.\n",
    "* <b> Geocoder API </b>: This will help us determine lat-lon of our hometown and relocation city\n",
    "* <b> Wikipedia </b>: This will contain information for us to pull the neighborhoods to compare against our hometown\n",
    "*<b> External CSV of Lat-lon for relocation city </b>\n",
    "\n",
    "Some of the packages used during this analysis:\n",
    "* Folium for mapping\n",
    "* Pandas and Numpy for data prep\n",
    "* requests for API pulls\n",
    "* JSON module from Pandas to read our API data\n",
    "* URLIB for API pulls\n",
    "* Sklearn K-Means cluster to determine which neighborhood our hometown is most similar to"
   ]
  },
  {
   "cell_type": "code",
   "execution_count": null,
   "metadata": {},
   "outputs": [],
   "source": []
  }
 ],
 "metadata": {
  "kernelspec": {
   "display_name": "Python 3",
   "language": "python",
   "name": "python3"
  },
  "language_info": {
   "codemirror_mode": {
    "name": "ipython",
    "version": 3
   },
   "file_extension": ".py",
   "mimetype": "text/x-python",
   "name": "python",
   "nbconvert_exporter": "python",
   "pygments_lexer": "ipython3",
   "version": "3.7.3"
  }
 },
 "nbformat": 4,
 "nbformat_minor": 2
}
